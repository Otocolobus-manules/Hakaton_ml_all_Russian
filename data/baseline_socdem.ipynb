{
 "cells": [
  {
   "cell_type": "code",
   "execution_count": 1,
   "id": "3dbe0fe4-71db-4dea-918e-9ca5aea27625",
   "metadata": {},
   "outputs": [],
   "source": [
    "import pandas as pd\n",
    "from sklearn.model_selection import train_test_split\n",
    "from sklearn.metrics import f1_score, accuracy_score\n",
    "\n",
    "from collections import Counter"
   ]
  },
  {
   "cell_type": "code",
   "execution_count": 2,
   "id": "9b75755d-6b33-434d-b51d-cb58ba292bd9",
   "metadata": {},
   "outputs": [],
   "source": [
    "path = ... # Ваш путь до директории с данными /path/to/data/\n",
    "data = pd.read_csv(path + 'train_events.csv')\n",
    "video = pd.read_csv(path + 'video_info.csv')\n",
    "targets = pd.read_csv(path + 'train_targets.csv')"
   ]
  },
  {
   "cell_type": "markdown",
   "id": "f14d9843-829e-4844-b741-0932be04492a",
   "metadata": {},
   "source": [
    "# Предсказание социально-демографических характеристик пользователей Rutube\n",
    "    Пользователи RUTUBE не всегда указывают свои данные, такие как возраст и пол, что затрудняет формирование портрета пользователя и создание персонализированных рекомендаций. Это ограничивает возможности платформы в предоставлении контента, который наиболее подходит интересам и потребностям пользователей, тем самым ухудшая пользовательский опыт.\n",
    "\n",
    "    Необходимо разработать модель, которая на основе истории просмотров сможет предсказывать пол и возраст пользователя. В качестве baseline решения мы предоставляем этот ноутбук.\n"
   ]
  },
  {
   "cell_type": "markdown",
   "id": "a31fc427-7c86-4a3e-9386-5e0434282e66",
   "metadata": {},
   "source": [
    "# Baseline \n",
    "    Чтобы предсказать возраст и пол, мы будем использовать медианный возраст и модальное значение пола для просмотренных каналов. Для этого мы подсчитаем статистические данные для каждого author_id на основе обучающей выборки.\n",
    "\n",
    "    Чтобы оценить качество данного подхода, разделим пользователей с известными социально-демографическими характеристиками на обучающую и валидационную выборки."
   ]
  },
  {
   "cell_type": "code",
   "execution_count": 3,
   "id": "20fa66e1-daa6-4dcb-b8a0-517f3e50f47a",
   "metadata": {},
   "outputs": [
    {
     "data": {
      "text/html": [
       "<div>\n",
       "<style scoped>\n",
       "    .dataframe tbody tr th:only-of-type {\n",
       "        vertical-align: middle;\n",
       "    }\n",
       "\n",
       "    .dataframe tbody tr th {\n",
       "        vertical-align: top;\n",
       "    }\n",
       "\n",
       "    .dataframe thead th {\n",
       "        text-align: right;\n",
       "    }\n",
       "</style>\n",
       "<table border=\"1\" class=\"dataframe\">\n",
       "  <thead>\n",
       "    <tr style=\"text-align: right;\">\n",
       "      <th></th>\n",
       "      <th>event_timestamp</th>\n",
       "      <th>region</th>\n",
       "      <th>ua_device_type</th>\n",
       "      <th>ua_client_type</th>\n",
       "      <th>ua_os</th>\n",
       "      <th>ua_client_name</th>\n",
       "      <th>total_watchtime</th>\n",
       "      <th>rutube_video_id</th>\n",
       "      <th>viewer_uid</th>\n",
       "    </tr>\n",
       "  </thead>\n",
       "  <tbody>\n",
       "    <tr>\n",
       "      <th>0</th>\n",
       "      <td>2024-06-01 06:40:58+03:00</td>\n",
       "      <td>Chelyabinsk</td>\n",
       "      <td>desktop</td>\n",
       "      <td>browser</td>\n",
       "      <td>Windows</td>\n",
       "      <td>Yandex Browser</td>\n",
       "      <td>1883</td>\n",
       "      <td>video_133074</td>\n",
       "      <td>10067243</td>\n",
       "    </tr>\n",
       "    <tr>\n",
       "      <th>1</th>\n",
       "      <td>2024-06-01 19:33:24+03:00</td>\n",
       "      <td>Bashkortostan Republic</td>\n",
       "      <td>smartphone</td>\n",
       "      <td>mobile app</td>\n",
       "      <td>Android</td>\n",
       "      <td>Rutube</td>\n",
       "      <td>512</td>\n",
       "      <td>video_362960</td>\n",
       "      <td>10245341</td>\n",
       "    </tr>\n",
       "    <tr>\n",
       "      <th>2</th>\n",
       "      <td>2024-06-01 21:30:43+03:00</td>\n",
       "      <td>St.-Petersburg</td>\n",
       "      <td>desktop</td>\n",
       "      <td>browser</td>\n",
       "      <td>Windows</td>\n",
       "      <td>Chrome</td>\n",
       "      <td>5647</td>\n",
       "      <td>video_96775</td>\n",
       "      <td>10894333</td>\n",
       "    </tr>\n",
       "    <tr>\n",
       "      <th>3</th>\n",
       "      <td>2024-06-01 23:03:42+03:00</td>\n",
       "      <td>Moscow</td>\n",
       "      <td>smartphone</td>\n",
       "      <td>mobile app</td>\n",
       "      <td>Android</td>\n",
       "      <td>Rutube</td>\n",
       "      <td>1521</td>\n",
       "      <td>video_161610</td>\n",
       "      <td>10029092</td>\n",
       "    </tr>\n",
       "    <tr>\n",
       "      <th>4</th>\n",
       "      <td>2024-06-01 22:48:09+03:00</td>\n",
       "      <td>Moscow</td>\n",
       "      <td>smartphone</td>\n",
       "      <td>mobile app</td>\n",
       "      <td>Android</td>\n",
       "      <td>Rutube</td>\n",
       "      <td>71</td>\n",
       "      <td>video_116245</td>\n",
       "      <td>10452976</td>\n",
       "    </tr>\n",
       "  </tbody>\n",
       "</table>\n",
       "</div>"
      ],
      "text/plain": [
       "             event_timestamp                  region ua_device_type  \\\n",
       "0  2024-06-01 06:40:58+03:00             Chelyabinsk        desktop   \n",
       "1  2024-06-01 19:33:24+03:00  Bashkortostan Republic     smartphone   \n",
       "2  2024-06-01 21:30:43+03:00          St.-Petersburg        desktop   \n",
       "3  2024-06-01 23:03:42+03:00                  Moscow     smartphone   \n",
       "4  2024-06-01 22:48:09+03:00                  Moscow     smartphone   \n",
       "\n",
       "  ua_client_type    ua_os  ua_client_name  total_watchtime rutube_video_id  \\\n",
       "0        browser  Windows  Yandex Browser             1883    video_133074   \n",
       "1     mobile app  Android          Rutube              512    video_362960   \n",
       "2        browser  Windows          Chrome             5647     video_96775   \n",
       "3     mobile app  Android          Rutube             1521    video_161610   \n",
       "4     mobile app  Android          Rutube               71    video_116245   \n",
       "\n",
       "   viewer_uid  \n",
       "0    10067243  \n",
       "1    10245341  \n",
       "2    10894333  \n",
       "3    10029092  \n",
       "4    10452976  "
      ]
     },
     "execution_count": 3,
     "metadata": {},
     "output_type": "execute_result"
    }
   ],
   "source": [
    "data.head(5)"
   ]
  },
  {
   "cell_type": "markdown",
   "id": "a1b238e3-4e60-4b7f-8ef5-a502f4415ea3",
   "metadata": {},
   "source": [
    "    В таблице data указаны события пользователей Rutube \n",
    "    - event_date : Дата события\n",
    "    - viewer_uid : Идентификатор пользователя\n",
    "    - region : Регион пользователя\n",
    "    - rutube_video_id : Идентификатор видео\n",
    "    - ua_device_type : Устройство пользователя\n",
    "    - ua_client_type : Приложение/браузер \n",
    "    - ua_os : Операционная система устройства пользователя\n",
    "    - ua_client_name : Веб-браузер/приложение, с которого пользователь просматривал видео\n",
    "    - total_watchtime : Время просмотра в секундах"
   ]
  },
  {
   "cell_type": "markdown",
   "id": "9af6505e-2bda-4bfc-944c-93eb36c60ad0",
   "metadata": {},
   "source": [
    "    Выделим валидационную выборку, на которой оценим качество нашего решения. Для этого разделим датасет случайным \n",
    "    образом по айди пользователей"
   ]
  },
  {
   "cell_type": "code",
   "execution_count": null,
   "id": "5076582d-ee2b-45cd-95c4-fac15aa75882",
   "metadata": {},
   "outputs": [],
   "source": []
  },
  {
   "cell_type": "code",
   "execution_count": 4,
   "id": "b005f8c3-737d-490d-b926-063a6969dbfb",
   "metadata": {},
   "outputs": [],
   "source": [
    "TRAIN_IDS, VAL_IDS = train_test_split(data['viewer_uid'].unique(), train_size=0.8, shuffle=True, random_state=11)"
   ]
  },
  {
   "cell_type": "code",
   "execution_count": 5,
   "id": "07c27d99-25ec-4fa5-b5ab-c19da4ed5304",
   "metadata": {},
   "outputs": [],
   "source": [
    "train_events = data[data['viewer_uid'].isin(TRAIN_IDS)]\n",
    "val_events = data[data['viewer_uid'].isin(VAL_IDS)]"
   ]
  },
  {
   "cell_type": "code",
   "execution_count": 6,
   "id": "d5b462ed-38da-4a2b-92fe-2157878ba5fd",
   "metadata": {},
   "outputs": [],
   "source": [
    "val_targets = targets[targets['viewer_uid'].isin(VAL_IDS)]"
   ]
  },
  {
   "cell_type": "code",
   "execution_count": 7,
   "id": "df7f1f56-48e5-40b6-b3a5-055956f1cfdf",
   "metadata": {},
   "outputs": [
    {
     "data": {
      "text/html": [
       "<div>\n",
       "<style scoped>\n",
       "    .dataframe tbody tr th:only-of-type {\n",
       "        vertical-align: middle;\n",
       "    }\n",
       "\n",
       "    .dataframe tbody tr th {\n",
       "        vertical-align: top;\n",
       "    }\n",
       "\n",
       "    .dataframe thead th {\n",
       "        text-align: right;\n",
       "    }\n",
       "</style>\n",
       "<table border=\"1\" class=\"dataframe\">\n",
       "  <thead>\n",
       "    <tr style=\"text-align: right;\">\n",
       "      <th></th>\n",
       "      <th>region</th>\n",
       "      <th>viewer_uid</th>\n",
       "      <th>author_id</th>\n",
       "      <th>age</th>\n",
       "      <th>sex</th>\n",
       "    </tr>\n",
       "  </thead>\n",
       "  <tbody>\n",
       "    <tr>\n",
       "      <th>0</th>\n",
       "      <td>Chelyabinsk</td>\n",
       "      <td>10067243</td>\n",
       "      <td>1009219</td>\n",
       "      <td>20</td>\n",
       "      <td>female</td>\n",
       "    </tr>\n",
       "    <tr>\n",
       "      <th>1</th>\n",
       "      <td>Bashkortostan Republic</td>\n",
       "      <td>10245341</td>\n",
       "      <td>1006760</td>\n",
       "      <td>40</td>\n",
       "      <td>female</td>\n",
       "    </tr>\n",
       "    <tr>\n",
       "      <th>2</th>\n",
       "      <td>St.-Petersburg</td>\n",
       "      <td>10894333</td>\n",
       "      <td>1009257</td>\n",
       "      <td>23</td>\n",
       "      <td>male</td>\n",
       "    </tr>\n",
       "    <tr>\n",
       "      <th>3</th>\n",
       "      <td>Moscow</td>\n",
       "      <td>10029092</td>\n",
       "      <td>1058671</td>\n",
       "      <td>41</td>\n",
       "      <td>male</td>\n",
       "    </tr>\n",
       "    <tr>\n",
       "      <th>4</th>\n",
       "      <td>Rostov</td>\n",
       "      <td>10013813</td>\n",
       "      <td>1009219</td>\n",
       "      <td>44</td>\n",
       "      <td>female</td>\n",
       "    </tr>\n",
       "  </tbody>\n",
       "</table>\n",
       "</div>"
      ],
      "text/plain": [
       "                   region  viewer_uid  author_id  age     sex\n",
       "0             Chelyabinsk    10067243    1009219   20  female\n",
       "1  Bashkortostan Republic    10245341    1006760   40  female\n",
       "2          St.-Petersburg    10894333    1009257   23    male\n",
       "3                  Moscow    10029092    1058671   41    male\n",
       "4                  Rostov    10013813    1009219   44  female"
      ]
     },
     "execution_count": 7,
     "metadata": {},
     "output_type": "execute_result"
    }
   ],
   "source": [
    "train_events = train_events.merge(video[['author_id', 'rutube_video_id']], how='left')\n",
    "train_events = train_events.merge(targets, on='viewer_uid', how='inner')\n",
    "\n",
    "train_events = train_events.drop(['event_timestamp','rutube_video_id', 'ua_device_type', 'ua_client_type', 'ua_os',\\\n",
    "                                           'ua_client_name', 'total_watchtime'], axis=1)\n",
    "train_events.head()"
   ]
  },
  {
   "cell_type": "code",
   "execution_count": 8,
   "id": "535ec6a0-9568-43ac-8f53-6dca15e6e365",
   "metadata": {},
   "outputs": [],
   "source": [
    "def get_mode(row): # Кастомная функция вычисления модального значения категориального признака\n",
    "    counter = Counter(row)\n",
    "    (most_common, _) = counter.most_common(1)[0]\n",
    "    \n",
    "    return most_common"
   ]
  },
  {
   "cell_type": "code",
   "execution_count": null,
   "id": "08f32bcd-273c-49c2-9a8a-14a480e6563b",
   "metadata": {},
   "outputs": [],
   "source": []
  },
  {
   "cell_type": "markdown",
   "id": "ec7ca84f-913a-4fc4-bc37-d0432e00b34d",
   "metadata": {},
   "source": [
    "    Группируем данные по идентификаторам авторов и определяем медианный возраст и модальное значение пола среди пользователей, просмотревших видео этого автора."
   ]
  },
  {
   "cell_type": "code",
   "execution_count": null,
   "id": "54089480-5a13-4095-a719-6a03643800dd",
   "metadata": {},
   "outputs": [],
   "source": []
  },
  {
   "cell_type": "code",
   "execution_count": 9,
   "id": "396046d4-a599-4953-84b8-aa7fff98d2cc",
   "metadata": {},
   "outputs": [],
   "source": [
    "author_median_age = train_events.groupby('author_id')['age'].median()\n",
    "author_sex_mode = train_events.groupby('author_id')['sex'].apply(get_mode)\n",
    "\n",
    "author_sex_mode.name = 'sex_mode'\n",
    "author_median_age.name = 'median_age'\n",
    "author_info = author_sex_mode.to_frame().join(author_median_age)"
   ]
  },
  {
   "cell_type": "code",
   "execution_count": 10,
   "id": "1919a72e-0f07-4044-8025-0997c1866379",
   "metadata": {},
   "outputs": [
    {
     "data": {
      "text/html": [
       "<div>\n",
       "<style scoped>\n",
       "    .dataframe tbody tr th:only-of-type {\n",
       "        vertical-align: middle;\n",
       "    }\n",
       "\n",
       "    .dataframe tbody tr th {\n",
       "        vertical-align: top;\n",
       "    }\n",
       "\n",
       "    .dataframe thead th {\n",
       "        text-align: right;\n",
       "    }\n",
       "</style>\n",
       "<table border=\"1\" class=\"dataframe\">\n",
       "  <thead>\n",
       "    <tr style=\"text-align: right;\">\n",
       "      <th></th>\n",
       "      <th>sex_mode</th>\n",
       "      <th>median_age</th>\n",
       "    </tr>\n",
       "    <tr>\n",
       "      <th>author_id</th>\n",
       "      <th></th>\n",
       "      <th></th>\n",
       "    </tr>\n",
       "  </thead>\n",
       "  <tbody>\n",
       "    <tr>\n",
       "      <th>1000003</th>\n",
       "      <td>male</td>\n",
       "      <td>46.0</td>\n",
       "    </tr>\n",
       "    <tr>\n",
       "      <th>1000004</th>\n",
       "      <td>male</td>\n",
       "      <td>41.0</td>\n",
       "    </tr>\n",
       "    <tr>\n",
       "      <th>1000005</th>\n",
       "      <td>female</td>\n",
       "      <td>34.0</td>\n",
       "    </tr>\n",
       "    <tr>\n",
       "      <th>1000007</th>\n",
       "      <td>male</td>\n",
       "      <td>32.0</td>\n",
       "    </tr>\n",
       "    <tr>\n",
       "      <th>1000008</th>\n",
       "      <td>male</td>\n",
       "      <td>36.0</td>\n",
       "    </tr>\n",
       "  </tbody>\n",
       "</table>\n",
       "</div>"
      ],
      "text/plain": [
       "          sex_mode  median_age\n",
       "author_id                     \n",
       "1000003       male        46.0\n",
       "1000004       male        41.0\n",
       "1000005     female        34.0\n",
       "1000007       male        32.0\n",
       "1000008       male        36.0"
      ]
     },
     "execution_count": 10,
     "metadata": {},
     "output_type": "execute_result"
    }
   ],
   "source": [
    "author_info.head()"
   ]
  },
  {
   "cell_type": "code",
   "execution_count": 11,
   "id": "8937e984-3288-4f2a-b7f4-601041a87447",
   "metadata": {},
   "outputs": [
    {
     "data": {
      "text/html": [
       "<div>\n",
       "<style scoped>\n",
       "    .dataframe tbody tr th:only-of-type {\n",
       "        vertical-align: middle;\n",
       "    }\n",
       "\n",
       "    .dataframe tbody tr th {\n",
       "        vertical-align: top;\n",
       "    }\n",
       "\n",
       "    .dataframe thead th {\n",
       "        text-align: right;\n",
       "    }\n",
       "</style>\n",
       "<table border=\"1\" class=\"dataframe\">\n",
       "  <thead>\n",
       "    <tr style=\"text-align: right;\">\n",
       "      <th></th>\n",
       "      <th>region</th>\n",
       "      <th>viewer_uid</th>\n",
       "      <th>author_id</th>\n",
       "    </tr>\n",
       "  </thead>\n",
       "  <tbody>\n",
       "    <tr>\n",
       "      <th>0</th>\n",
       "      <td>Moscow</td>\n",
       "      <td>10452976</td>\n",
       "      <td>1020020</td>\n",
       "    </tr>\n",
       "    <tr>\n",
       "      <th>1</th>\n",
       "      <td>Kursk Oblast</td>\n",
       "      <td>10084832</td>\n",
       "      <td>1084744</td>\n",
       "    </tr>\n",
       "    <tr>\n",
       "      <th>2</th>\n",
       "      <td>Moscow</td>\n",
       "      <td>10043828</td>\n",
       "      <td>1009257</td>\n",
       "    </tr>\n",
       "    <tr>\n",
       "      <th>3</th>\n",
       "      <td>St.-Petersburg</td>\n",
       "      <td>10180480</td>\n",
       "      <td>1084744</td>\n",
       "    </tr>\n",
       "    <tr>\n",
       "      <th>4</th>\n",
       "      <td>Moscow</td>\n",
       "      <td>10339394</td>\n",
       "      <td>1009257</td>\n",
       "    </tr>\n",
       "  </tbody>\n",
       "</table>\n",
       "</div>"
      ],
      "text/plain": [
       "           region  viewer_uid  author_id\n",
       "0          Moscow    10452976    1020020\n",
       "1    Kursk Oblast    10084832    1084744\n",
       "2          Moscow    10043828    1009257\n",
       "3  St.-Petersburg    10180480    1084744\n",
       "4          Moscow    10339394    1009257"
      ]
     },
     "execution_count": 11,
     "metadata": {},
     "output_type": "execute_result"
    }
   ],
   "source": [
    "val_events = val_events.merge(video[['rutube_video_id', 'author_id']])\n",
    "val_events = val_events.drop(['event_timestamp','rutube_video_id', 'ua_device_type', 'ua_client_type', 'ua_os',\\\n",
    "                                           'ua_client_name', 'total_watchtime'], axis=1)\n",
    "val_events.head()"
   ]
  },
  {
   "cell_type": "code",
   "execution_count": null,
   "id": "f140a3bf-1077-4f61-9741-ac5d0fa7e7e3",
   "metadata": {},
   "outputs": [],
   "source": []
  },
  {
   "cell_type": "markdown",
   "id": "49c7c807-fb57-4f4c-8bb3-cdb7f38eaf9c",
   "metadata": {},
   "source": [
    "    Предсказываем целевые переменные тестовых пользователей. \n",
    "\n",
    "    На истории просмотренных каналов считаем медианный возраст и моду пола."
   ]
  },
  {
   "cell_type": "code",
   "execution_count": null,
   "id": "424cc6b5-f9bc-4cd2-99c5-6cc5b42338f8",
   "metadata": {},
   "outputs": [],
   "source": []
  },
  {
   "cell_type": "code",
   "execution_count": 12,
   "id": "eab26785-77a4-4202-9c1f-2eca6b5406f0",
   "metadata": {},
   "outputs": [
    {
     "data": {
      "text/html": [
       "<div>\n",
       "<style scoped>\n",
       "    .dataframe tbody tr th:only-of-type {\n",
       "        vertical-align: middle;\n",
       "    }\n",
       "\n",
       "    .dataframe tbody tr th {\n",
       "        vertical-align: top;\n",
       "    }\n",
       "\n",
       "    .dataframe thead th {\n",
       "        text-align: right;\n",
       "    }\n",
       "</style>\n",
       "<table border=\"1\" class=\"dataframe\">\n",
       "  <thead>\n",
       "    <tr style=\"text-align: right;\">\n",
       "      <th></th>\n",
       "      <th>region</th>\n",
       "      <th>viewer_uid</th>\n",
       "      <th>author_id</th>\n",
       "      <th>sex_mode</th>\n",
       "      <th>median_age</th>\n",
       "    </tr>\n",
       "  </thead>\n",
       "  <tbody>\n",
       "    <tr>\n",
       "      <th>0</th>\n",
       "      <td>Moscow</td>\n",
       "      <td>10452976</td>\n",
       "      <td>1020020</td>\n",
       "      <td>female</td>\n",
       "      <td>35.0</td>\n",
       "    </tr>\n",
       "    <tr>\n",
       "      <th>1</th>\n",
       "      <td>Kursk Oblast</td>\n",
       "      <td>10084832</td>\n",
       "      <td>1084744</td>\n",
       "      <td>female</td>\n",
       "      <td>28.0</td>\n",
       "    </tr>\n",
       "    <tr>\n",
       "      <th>2</th>\n",
       "      <td>Moscow</td>\n",
       "      <td>10043828</td>\n",
       "      <td>1009257</td>\n",
       "      <td>female</td>\n",
       "      <td>31.0</td>\n",
       "    </tr>\n",
       "    <tr>\n",
       "      <th>3</th>\n",
       "      <td>St.-Petersburg</td>\n",
       "      <td>10180480</td>\n",
       "      <td>1084744</td>\n",
       "      <td>female</td>\n",
       "      <td>28.0</td>\n",
       "    </tr>\n",
       "    <tr>\n",
       "      <th>4</th>\n",
       "      <td>Moscow</td>\n",
       "      <td>10339394</td>\n",
       "      <td>1009257</td>\n",
       "      <td>female</td>\n",
       "      <td>31.0</td>\n",
       "    </tr>\n",
       "  </tbody>\n",
       "</table>\n",
       "</div>"
      ],
      "text/plain": [
       "           region  viewer_uid  author_id sex_mode  median_age\n",
       "0          Moscow    10452976    1020020   female        35.0\n",
       "1    Kursk Oblast    10084832    1084744   female        28.0\n",
       "2          Moscow    10043828    1009257   female        31.0\n",
       "3  St.-Petersburg    10180480    1084744   female        28.0\n",
       "4          Moscow    10339394    1009257   female        31.0"
      ]
     },
     "execution_count": 12,
     "metadata": {},
     "output_type": "execute_result"
    }
   ],
   "source": [
    "val_events = val_events.join(author_info, on='author_id', how='left')\n",
    "val_events.head()"
   ]
  },
  {
   "cell_type": "code",
   "execution_count": 13,
   "id": "02005dd5-ee67-4f3a-b4d9-c7e341594955",
   "metadata": {},
   "outputs": [],
   "source": [
    "median_age_predict = val_events.groupby('viewer_uid')['median_age'].median()\n",
    "mode_sex_predict = val_events.groupby('viewer_uid')['sex_mode'].apply(get_mode)\n",
    "\n",
    "predicts = median_age_predict.to_frame().join(mode_sex_predict)\n",
    "predicts = predicts.loc[VAL_IDS]\n",
    "\n",
    "\n",
    "predicts['sex_mode'] = predicts['sex_mode'].fillna(author_info['sex_mode'].mode()[0])\n",
    "predicts['median_age'] = predicts['median_age'].fillna(author_info['median_age'].median())\n",
    "\n",
    "age_class_bins = [9, 20, 30, 40, 60] # Возрастные категории пользователей, подробнее в файле с описанием данных\n",
    "predicts['age_class'] = pd.cut(predicts['median_age'], bins=age_class_bins, labels=[0, 1, 2, 3])\n",
    "predicts = predicts.reset_index()"
   ]
  },
  {
   "cell_type": "code",
   "execution_count": 14,
   "id": "54347cf6-bb16-4a4f-bc5c-5427ce98f02c",
   "metadata": {},
   "outputs": [
    {
     "name": "stdout",
     "output_type": "stream",
     "text": [
      "<class 'pandas.core.frame.DataFrame'>\n",
      "RangeIndex: 36003 entries, 0 to 36002\n",
      "Data columns (total 4 columns):\n",
      " #   Column      Non-Null Count  Dtype   \n",
      "---  ------      --------------  -----   \n",
      " 0   viewer_uid  36003 non-null  int64   \n",
      " 1   median_age  36003 non-null  float64 \n",
      " 2   sex_mode    36003 non-null  object  \n",
      " 3   age_class   36003 non-null  category\n",
      "dtypes: category(1), float64(1), int64(1), object(1)\n",
      "memory usage: 879.3+ KB\n"
     ]
    }
   ],
   "source": [
    "predicts.info()"
   ]
  },
  {
   "cell_type": "code",
   "execution_count": 15,
   "id": "f4d74aeb-fd8f-477e-aee1-fde8267b9bcf",
   "metadata": {},
   "outputs": [
    {
     "data": {
      "text/html": [
       "<div>\n",
       "<style scoped>\n",
       "    .dataframe tbody tr th:only-of-type {\n",
       "        vertical-align: middle;\n",
       "    }\n",
       "\n",
       "    .dataframe tbody tr th {\n",
       "        vertical-align: top;\n",
       "    }\n",
       "\n",
       "    .dataframe thead th {\n",
       "        text-align: right;\n",
       "    }\n",
       "</style>\n",
       "<table border=\"1\" class=\"dataframe\">\n",
       "  <thead>\n",
       "    <tr style=\"text-align: right;\">\n",
       "      <th></th>\n",
       "      <th>viewer_uid</th>\n",
       "      <th>median_age</th>\n",
       "      <th>sex_mode</th>\n",
       "      <th>age_class</th>\n",
       "    </tr>\n",
       "  </thead>\n",
       "  <tbody>\n",
       "    <tr>\n",
       "      <th>0</th>\n",
       "      <td>10350073</td>\n",
       "      <td>37.0</td>\n",
       "      <td>female</td>\n",
       "      <td>2</td>\n",
       "    </tr>\n",
       "    <tr>\n",
       "      <th>1</th>\n",
       "      <td>10576339</td>\n",
       "      <td>38.0</td>\n",
       "      <td>male</td>\n",
       "      <td>2</td>\n",
       "    </tr>\n",
       "    <tr>\n",
       "      <th>2</th>\n",
       "      <td>10112889</td>\n",
       "      <td>31.0</td>\n",
       "      <td>female</td>\n",
       "      <td>2</td>\n",
       "    </tr>\n",
       "    <tr>\n",
       "      <th>3</th>\n",
       "      <td>10326819</td>\n",
       "      <td>33.5</td>\n",
       "      <td>female</td>\n",
       "      <td>2</td>\n",
       "    </tr>\n",
       "    <tr>\n",
       "      <th>4</th>\n",
       "      <td>10557881</td>\n",
       "      <td>29.0</td>\n",
       "      <td>male</td>\n",
       "      <td>1</td>\n",
       "    </tr>\n",
       "  </tbody>\n",
       "</table>\n",
       "</div>"
      ],
      "text/plain": [
       "   viewer_uid  median_age sex_mode age_class\n",
       "0    10350073        37.0   female         2\n",
       "1    10576339        38.0     male         2\n",
       "2    10112889        31.0   female         2\n",
       "3    10326819        33.5   female         2\n",
       "4    10557881        29.0     male         1"
      ]
     },
     "execution_count": 15,
     "metadata": {},
     "output_type": "execute_result"
    }
   ],
   "source": [
    "predicts.head()"
   ]
  },
  {
   "cell_type": "code",
   "execution_count": 18,
   "id": "dd7c1a6c-2f38-4ae9-9f2f-4a714dd4d1f4",
   "metadata": {},
   "outputs": [],
   "source": [
    "val_targets.loc[:, 'age_class'] = pd.cut(val_targets['age'], bins=age_class_bins, labels=[0, 1, 2, 3])"
   ]
  },
  {
   "cell_type": "markdown",
   "id": "78f1f7f8-fcff-4c6b-933b-3957933a56c7",
   "metadata": {},
   "source": [
    "# Подсчет метрики"
   ]
  },
  {
   "cell_type": "code",
   "execution_count": 19,
   "id": "c8eb80da-ec11-43a4-a4fb-53b304e7b6c7",
   "metadata": {},
   "outputs": [],
   "source": [
    "val_targets = val_targets.sort_values(by='viewer_uid').reset_index(drop=True)\n",
    "predicts = predicts.sort_values(by='viewer_uid').reset_index(drop=True)"
   ]
  },
  {
   "cell_type": "code",
   "execution_count": 20,
   "id": "a876ed0b-f68d-4b0e-bd72-d8c23c5825d2",
   "metadata": {},
   "outputs": [
    {
     "name": "stdout",
     "output_type": "stream",
     "text": [
      "Weighted F1 = 0.3630 \n",
      "Accuracy = 0.7330 \n",
      "Final Score = 0.4740\n"
     ]
    }
   ],
   "source": [
    "f1_weighted = f1_score(val_targets['age_class'], predicts['age_class'], average='weighted')\n",
    "accuracy = accuracy_score(val_targets['sex'], predicts['sex_mode'])\n",
    "\n",
    "final_score = 0.7 * f1_weighted + 0.3 * accuracy\n",
    "print(f'Weighted F1 = {f1_weighted:.4f} \\nAccuracy = {accuracy:.4f} \\nFinal Score = {final_score:.4f}')"
   ]
  },
  {
   "cell_type": "markdown",
   "id": "8e372100-f7fa-4d06-b8c9-9c9acdb5c9ea",
   "metadata": {},
   "source": [
    "# Пример заполнения submission.csv\n",
    "    Перед отправкой убедитесь, что количество уникальных пользователей в тестовой выборке и в вашей таблице предсказаний совпадает. Проверьте, чтобы в столбцах с прогнозируемыми значениями не было пропущенных значений. \n",
    "\n",
    "    Идентификаторы пользователей (viewer_uid) нужно сохранить как отдельную колонку, а не индекс таблицы.\n",
    "    \n",
    "    Не забудьте сохранить файл с параметром index = False."
   ]
  },
  {
   "cell_type": "code",
   "execution_count": 21,
   "id": "e43ca52a-a403-45fe-96f3-f8f7b151c001",
   "metadata": {},
   "outputs": [],
   "source": [
    "submission = pd.DataFrame(columns=['viewer_uid', 'sex', 'age_class'])\n",
    "submission['viewer_uid'] = predicts['viewer_uid'].values\n",
    "submission['sex'] = predicts['sex_mode'].values\n",
    "submission['age_class'] = predicts['age_class'].values"
   ]
  },
  {
   "cell_type": "code",
   "execution_count": 22,
   "id": "8593883c-6e2d-47e3-b1de-25aa8d2bf8d2",
   "metadata": {},
   "outputs": [
    {
     "data": {
      "text/html": [
       "<div>\n",
       "<style scoped>\n",
       "    .dataframe tbody tr th:only-of-type {\n",
       "        vertical-align: middle;\n",
       "    }\n",
       "\n",
       "    .dataframe tbody tr th {\n",
       "        vertical-align: top;\n",
       "    }\n",
       "\n",
       "    .dataframe thead th {\n",
       "        text-align: right;\n",
       "    }\n",
       "</style>\n",
       "<table border=\"1\" class=\"dataframe\">\n",
       "  <thead>\n",
       "    <tr style=\"text-align: right;\">\n",
       "      <th></th>\n",
       "      <th>viewer_uid</th>\n",
       "      <th>sex</th>\n",
       "      <th>age_class</th>\n",
       "    </tr>\n",
       "  </thead>\n",
       "  <tbody>\n",
       "    <tr>\n",
       "      <th>0</th>\n",
       "      <td>10000001</td>\n",
       "      <td>female</td>\n",
       "      <td>2</td>\n",
       "    </tr>\n",
       "    <tr>\n",
       "      <th>1</th>\n",
       "      <td>10000007</td>\n",
       "      <td>male</td>\n",
       "      <td>2</td>\n",
       "    </tr>\n",
       "    <tr>\n",
       "      <th>2</th>\n",
       "      <td>10000010</td>\n",
       "      <td>male</td>\n",
       "      <td>2</td>\n",
       "    </tr>\n",
       "    <tr>\n",
       "      <th>3</th>\n",
       "      <td>10000012</td>\n",
       "      <td>male</td>\n",
       "      <td>2</td>\n",
       "    </tr>\n",
       "    <tr>\n",
       "      <th>4</th>\n",
       "      <td>10000014</td>\n",
       "      <td>male</td>\n",
       "      <td>2</td>\n",
       "    </tr>\n",
       "  </tbody>\n",
       "</table>\n",
       "</div>"
      ],
      "text/plain": [
       "   viewer_uid     sex age_class\n",
       "0    10000001  female         2\n",
       "1    10000007    male         2\n",
       "2    10000010    male         2\n",
       "3    10000012    male         2\n",
       "4    10000014    male         2"
      ]
     },
     "execution_count": 22,
     "metadata": {},
     "output_type": "execute_result"
    }
   ],
   "source": [
    "submission.head()"
   ]
  },
  {
   "cell_type": "code",
   "execution_count": null,
   "id": "d2f4ea74-e671-4dd7-b72d-796c7117a00b",
   "metadata": {},
   "outputs": [],
   "source": [
    "submission.to_csv(\n",
    "    # path/submission.csv,\n",
    "    # index=False \n",
    ")"
   ]
  }
 ],
 "metadata": {
  "kernelspec": {
   "display_name": "Python 3 (ipykernel)",
   "language": "python",
   "name": "python3"
  },
  "language_info": {
   "codemirror_mode": {
    "name": "ipython",
    "version": 3
   },
   "file_extension": ".py",
   "mimetype": "text/x-python",
   "name": "python",
   "nbconvert_exporter": "python",
   "pygments_lexer": "ipython3",
   "version": "3.12.6"
  },
  "toc": {
   "base_numbering": 1,
   "nav_menu": {},
   "number_sections": true,
   "sideBar": true,
   "skip_h1_title": false,
   "title_cell": "Table of Contents",
   "title_sidebar": "Contents",
   "toc_cell": false,
   "toc_position": {},
   "toc_section_display": true,
   "toc_window_display": false
  }
 },
 "nbformat": 4,
 "nbformat_minor": 5
}
